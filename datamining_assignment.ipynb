{
  "nbformat": 4,
  "nbformat_minor": 0,
  "metadata": {
    "colab": {
      "provenance": []
    },
    "kernelspec": {
      "name": "python3",
      "display_name": "Python 3"
    },
    "language_info": {
      "name": "python"
    }
  },
  "cells": [
    {
      "cell_type": "code",
      "execution_count": 3,
      "metadata": {
        "colab": {
          "base_uri": "https://localhost:8080/"
        },
        "id": "bguPrT9bkf1f",
        "outputId": "83fd3bd0-1b60-402d-d754-9adafb6f012c"
      },
      "outputs": [
        {
          "output_type": "stream",
          "name": "stdout",
          "text": [
            "Requirement already satisfied: faker in /usr/local/lib/python3.10/dist-packages (33.0.0)\n",
            "Requirement already satisfied: python-dateutil>=2.4 in /usr/local/lib/python3.10/dist-packages (from faker) (2.8.2)\n",
            "Requirement already satisfied: typing-extensions in /usr/local/lib/python3.10/dist-packages (from faker) (4.12.2)\n",
            "Requirement already satisfied: six>=1.5 in /usr/local/lib/python3.10/dist-packages (from python-dateutil>=2.4->faker) (1.16.0)\n"
          ]
        }
      ],
      "source": [
        "!pip install faker\n",
        "import sqlite3\n",
        "import random\n",
        "from faker import Faker\n",
        "\n",
        "# Initialize Faker for realistic data\n",
        "fake = Faker()\n",
        "\n",
        "# Connect to SQLite\n",
        "conn = sqlite3.connect('garston_superstore.db')\n",
        "cursor = conn.cursor()\n",
        "\n",
        "# Step 1: Create Tables\n",
        "cursor.execute('''\n",
        "CREATE TABLE IF NOT EXISTS Products (\n",
        "    Product_ID TEXT PRIMARY KEY,  -- Alphanumeric ID\n",
        "    Product_Name TEXT NOT NULL,\n",
        "    Category TEXT NOT NULL,\n",
        "    Price REAL NOT NULL CHECK(Price > 0)\n",
        ");\n",
        "''')\n",
        "\n",
        "cursor.execute('''\n",
        "CREATE TABLE IF NOT EXISTS Employees (\n",
        "    Employee_ID INTEGER PRIMARY KEY AUTOINCREMENT,\n",
        "    Name TEXT NOT NULL,\n",
        "    Role TEXT NOT NULL,\n",
        "    Hourly_Rate REAL NOT NULL CHECK(Hourly_Rate > 0)\n",
        ");\n",
        "''')\n",
        "\n",
        "cursor.execute('''\n",
        "CREATE TABLE IF NOT EXISTS Customers (\n",
        "    Customer_ID TEXT PRIMARY KEY,  -- Prefixed with \"CUST\"\n",
        "    Name TEXT NOT NULL,\n",
        "    Age_Group TEXT NOT NULL,\n",
        "    Postcode TEXT\n",
        ");\n",
        "''')\n",
        "\n",
        "cursor.execute('''\n",
        "CREATE TABLE IF NOT EXISTS Sales (\n",
        "    Sale_ID INTEGER PRIMARY KEY AUTOINCREMENT,\n",
        "    Product_ID TEXT NOT NULL,\n",
        "    Employee_ID INTEGER NOT NULL,\n",
        "    Customer_ID TEXT,\n",
        "    Sale_Date TEXT NOT NULL,\n",
        "    Quantity INTEGER NOT NULL CHECK(Quantity > 0),\n",
        "    Total_Price REAL NOT NULL CHECK(Total_Price > 0),\n",
        "    FOREIGN KEY(Product_ID) REFERENCES Products(Product_ID),\n",
        "    FOREIGN KEY(Employee_ID) REFERENCES Employees(Employee_ID),\n",
        "    FOREIGN KEY(Customer_ID) REFERENCES Customers(Customer_ID)\n",
        ");\n",
        "''')\n",
        "\n",
        "# Step 2: Populate Data\n",
        "\n",
        "# 1. Products Table with unique alphanumeric IDs and realistic product names\n",
        "categories = {\n",
        "    'Groceries': ['Rice', 'Pasta', 'Cereal', 'Oil', 'Sugar'],\n",
        "    'Bakery': ['Bread', 'Croissant', 'Bagel', 'Muffin', 'Cake'],\n",
        "    'Dairy': ['Milk', 'Cheese', 'Yogurt', 'Butter', 'Cream'],\n",
        "    'Snacks': ['Chips', 'Cookies', 'Popcorn', 'Chocolate', 'Candy'],\n",
        "    'Beverages': ['Juice', 'Soda', 'Tea', 'Coffee', 'Water']\n",
        "}\n",
        "\n",
        "# Generate 100 unique product IDs\n",
        "product_ids = [f\"AC{str(i).zfill(3)}\" for i in range(100)]  # AC001, AC002, etc.\n",
        "\n",
        "# Create Product entries\n",
        "products = []\n",
        "for product_id in product_ids:\n",
        "    category = random.choice(list(categories.keys()))\n",
        "    product_name = random.choice(categories[category])\n",
        "    price = round(random.uniform(0.5, 50.0), 2)\n",
        "    products.append((product_id, product_name, category, price))\n",
        "\n",
        "cursor.executemany('INSERT INTO Products (Product_ID, Product_Name, Category, Price) VALUES (?, ?, ?, ?)', products)\n",
        "\n",
        "# 2. Employees Table\n",
        "roles = ['Cashier', 'Manager', 'Stocker']\n",
        "employees = [\n",
        "    (fake.name(), random.choice(roles), round(random.uniform(10.0, 25.0), 2))\n",
        "    for _ in range(50)\n",
        "]\n",
        "cursor.executemany('INSERT INTO Employees (Name, Role, Hourly_Rate) VALUES (?, ?, ?)', employees)\n",
        "\n",
        "# 3. Customers Table with CUST prefix\n",
        "age_groups = ['18-25', '26-35', '36-45', '46-55', '56-65', '66+']\n",
        "postcodes = [f'L19 {i:02d}' for i in range(1, 21)]\n",
        "customers = [\n",
        "    (f\"CUST{str(i).zfill(4)}\", fake.name(), random.choice(age_groups), random.choice(postcodes) if random.random() > 0.05 else None)\n",
        "    for i in range(1, 501)\n",
        "]\n",
        "cursor.executemany('INSERT INTO Customers (Customer_ID, Name, Age_Group, Postcode) VALUES (?, ?, ?, ?)', customers)\n",
        "\n",
        "# 4. Sales Table\n",
        "sales = []\n",
        "for _ in range(1000):\n",
        "    product_id = random.choice(product_ids)  # Random product ID\n",
        "    employee_id = random.randint(1, 50)  # Random Employee ID\n",
        "    customer_id = f\"CUST{random.randint(1, 500):04}\" if random.random() > 0.1 else None  # 10% NULL Customer_ID\n",
        "    quantity = random.randint(1, 10)\n",
        "    sale_date = fake.date_between(start_date='-30d', end_date='today')\n",
        "    total_price = round(random.uniform(5.0, 500.0), 2)  # Random total price\n",
        "    sales.append((product_id, employee_id, customer_id, str(sale_date), quantity, total_price))\n",
        "\n",
        "cursor.executemany('''\n",
        "INSERT INTO Sales (Product_ID, Employee_ID, Customer_ID, Sale_Date, Quantity, Total_Price)\n",
        "VALUES (?, ?, ?, ?, ?, ?)\n",
        "''', sales)\n",
        "\n",
        "# Commit changes and close connection\n",
        "conn.commit()\n",
        "conn.close()\n"
      ]
    },
    {
      "cell_type": "code",
      "source": [
        "!pip install faker"
      ],
      "metadata": {
        "colab": {
          "base_uri": "https://localhost:8080/"
        },
        "id": "6n2bMMX2kkIF",
        "outputId": "8bcbe310-54f3-4d74-9a30-7b88972662e3"
      },
      "execution_count": 2,
      "outputs": [
        {
          "output_type": "stream",
          "name": "stdout",
          "text": [
            "Collecting faker\n",
            "  Downloading Faker-33.0.0-py3-none-any.whl.metadata (15 kB)\n",
            "Requirement already satisfied: python-dateutil>=2.4 in /usr/local/lib/python3.10/dist-packages (from faker) (2.8.2)\n",
            "Requirement already satisfied: typing-extensions in /usr/local/lib/python3.10/dist-packages (from faker) (4.12.2)\n",
            "Requirement already satisfied: six>=1.5 in /usr/local/lib/python3.10/dist-packages (from python-dateutil>=2.4->faker) (1.16.0)\n",
            "Downloading Faker-33.0.0-py3-none-any.whl (1.9 MB)\n",
            "\u001b[2K   \u001b[90m━━━━━━━━━━━━━━━━━━━━━━━━━━━━━━━━━━━━━━━━\u001b[0m \u001b[32m1.9/1.9 MB\u001b[0m \u001b[31m18.4 MB/s\u001b[0m eta \u001b[36m0:00:00\u001b[0m\n",
            "\u001b[?25hInstalling collected packages: faker\n",
            "Successfully installed faker-33.0.0\n"
          ]
        }
      ]
    }
  ]
}